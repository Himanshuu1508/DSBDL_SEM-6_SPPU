{
 "cells": [
  {
   "cell_type": "code",
   "execution_count": 98,
   "id": "413fc4dc-23bf-4b6d-ae0c-fa09a43ccb36",
   "metadata": {},
   "outputs": [
    {
     "name": "stderr",
     "output_type": "stream",
     "text": [
      "[nltk_data] Downloading package punkt to\n",
      "[nltk_data]     C:\\Users\\iamhi\\AppData\\Roaming\\nltk_data...\n",
      "[nltk_data]   Package punkt is already up-to-date!\n",
      "[nltk_data] Downloading package stopwords to\n",
      "[nltk_data]     C:\\Users\\iamhi\\AppData\\Roaming\\nltk_data...\n",
      "[nltk_data]   Package stopwords is already up-to-date!\n",
      "[nltk_data] Downloading package wordnet to\n",
      "[nltk_data]     C:\\Users\\iamhi\\AppData\\Roaming\\nltk_data...\n",
      "[nltk_data]   Package wordnet is already up-to-date!\n",
      "[nltk_data] Downloading package averaged_perceptron_tagger to\n",
      "[nltk_data]     C:\\Users\\iamhi\\AppData\\Roaming\\nltk_data...\n",
      "[nltk_data]   Package averaged_perceptron_tagger is already up-to-\n",
      "[nltk_data]       date!\n"
     ]
    },
    {
     "data": {
      "text/plain": [
       "True"
      ]
     },
     "execution_count": 98,
     "metadata": {},
     "output_type": "execute_result"
    }
   ],
   "source": [
    "import nltk\n",
    "nltk.download('punkt')\n",
    "nltk.download('stopwords')\n",
    "nltk.download('wordnet')\n",
    "nltk.download('averaged_perceptron_tagger')"
   ]
  },
  {
   "cell_type": "code",
   "execution_count": 100,
   "id": "246f8e08-2fe6-4fc3-9b29-1658ae3bbfbd",
   "metadata": {},
   "outputs": [],
   "source": [
    "text=\" Tokenization is the first step in text analytics. The process of breaking down a text paragraph into smaller chunks such as words or sentences is called Tokenization.\""
   ]
  },
  {
   "cell_type": "markdown",
   "id": "248cbe72-a456-4855-a301-ab291686624a",
   "metadata": {},
   "source": [
    "Perform Tokenization"
   ]
  },
  {
   "cell_type": "code",
   "execution_count": 103,
   "id": "8841ab57-1c5c-42c3-8d2c-e5e4d29a24dd",
   "metadata": {},
   "outputs": [
    {
     "name": "stdout",
     "output_type": "stream",
     "text": [
      "[' Tokenization is the first step in text analytics.', 'The process of breaking down a text paragraph into smaller chunks such as words or sentences is called Tokenization.']\n"
     ]
    }
   ],
   "source": [
    "#Sentence Tokenization\n",
    "from nltk.tokenize import sent_tokenize\n",
    "tokenized_text= sent_tokenize(text)\n",
    "print(tokenized_text)"
   ]
  },
  {
   "cell_type": "code",
   "execution_count": 105,
   "id": "9b5f253e-30ea-4faf-9fa7-668c47ec6515",
   "metadata": {},
   "outputs": [
    {
     "name": "stdout",
     "output_type": "stream",
     "text": [
      "['Tokenization', 'is', 'the', 'first', 'step', 'in', 'text', 'analytics', '.', 'The', 'process', 'of', 'breaking', 'down', 'a', 'text', 'paragraph', 'into', 'smaller', 'chunks', 'such', 'as', 'words', 'or', 'sentences', 'is', 'called', 'Tokenization', '.']\n"
     ]
    }
   ],
   "source": [
    "#Word Tokenization\n",
    "from nltk.tokenize import word_tokenize\n",
    "tokenized_word=word_tokenize(text)\n",
    "print(tokenized_word)"
   ]
  },
  {
   "cell_type": "markdown",
   "id": "0803ad2e-04ae-4c28-9dc3-130fd7caa916",
   "metadata": {},
   "source": [
    "Removing Punctuations and Stop Word"
   ]
  },
  {
   "cell_type": "code",
   "execution_count": 108,
   "id": "cdb00bf1-580a-4842-a1fe-07963dc39554",
   "metadata": {},
   "outputs": [
    {
     "name": "stdout",
     "output_type": "stream",
     "text": [
      "{'does', 'been', 'then', 'other', \"they're\", \"you're\", 'those', 'after', 'too', 'if', 'when', 'but', 'both', 'each', 'that', 'an', \"you'll\", 'during', 'yourselves', 'be', 'under', 'for', 'where', \"we'd\", 'how', 's', 'at', 'them', 'above', 'it', \"weren't\", 'won', 'because', 'over', 'him', 'the', \"she'd\", 'are', \"they'd\", 'isn', 'our', 'a', 're', 'was', 'with', 'yours', 'themselves', \"i'd\", 'into', 'mustn', 'on', 'these', 'is', 'up', 'has', 'yourself', 'm', 'out', 'didn', \"she's\", \"we'll\", 'further', \"we're\", \"hadn't\", 'all', \"doesn't\", \"isn't\", 'to', 'more', 'i', 'will', 'do', 'its', \"i'll\", 'down', \"it's\", 'theirs', 'so', 'very', \"he'd\", 'they', 'she', \"he'll\", 'such', 'doesn', 'we', 'as', 'there', \"won't\", 'me', 't', 'only', 'again', 'needn', 'or', 'ours', \"you'd\", 'some', \"shouldn't\", 'can', 'herself', \"mustn't\", 'having', 'her', \"don't\", 'same', 'through', \"couldn't\", 'he', 'while', \"wouldn't\", \"shan't\", \"they'll\", 'just', \"should've\", 'shouldn', 'and', 'your', 'did', \"hasn't\", 'couldn', 'were', \"they've\", 'doing', \"needn't\", 'shan', 'am', \"wasn't\", 'his', \"we've\", 'y', \"i've\", 've', 'ma', 'their', 'why', \"i'm\", 'who', 'wouldn', 'my', \"you've\", 'myself', \"it'll\", 'ain', 'aren', 'from', 'wasn', 'off', 'own', 'below', 'any', 'hers', 'hadn', \"it'd\", 'which', 'should', 'about', 'nor', 'don', 'd', 'against', 'hasn', 'what', 'whom', 'of', \"mightn't\", 'itself', 'have', 'most', 'weren', \"she'll\", 'once', 'between', 'few', 'not', \"he's\", 'by', 'you', 'll', 'being', 'mightn', 'no', 'until', 'ourselves', 'than', 'in', 'this', 'before', \"aren't\", \"didn't\", 'here', 'had', 'now', 'himself', 'o', 'haven', \"haven't\", \"that'll\"}\n"
     ]
    }
   ],
   "source": [
    "# print stop words of English\n",
    "from nltk.corpus import stopwords\n",
    "stop_words=set(stopwords.words(\"english\"))\n",
    "print(stop_words)"
   ]
  },
  {
   "cell_type": "code",
   "execution_count": 110,
   "id": "c2dfbdb7-c9c5-46b5-8c89-873cb952c9ed",
   "metadata": {},
   "outputs": [
    {
     "name": "stdout",
     "output_type": "stream",
     "text": [
      "Tokenized Sentence: ['how', 'to', 'remove', 'stop', 'words', 'with', 'nltk', 'library', 'in', 'python']\n",
      "Filterd Sentence: ['remove', 'stop', 'words', 'nltk', 'library', 'python']\n"
     ]
    }
   ],
   "source": [
    "import re\n",
    "text= \"How to remove stop words with NLTK library in Python?\"\n",
    "text= re.sub('[^a-zA-Z]', ' ',text)\n",
    "tokens = word_tokenize(text.lower())\n",
    "filtered_text=[]\n",
    "for w in tokens:\n",
    "    if w not in stop_words:\n",
    "        filtered_text.append(w)\n",
    "print(\"Tokenized Sentence:\",tokens)\n",
    "print(\"Filterd Sentence:\",filtered_text)"
   ]
  },
  {
   "cell_type": "markdown",
   "id": "17fc4b95-85a1-48c1-b3c1-19f71a38120e",
   "metadata": {},
   "source": [
    "Perform Stemming"
   ]
  },
  {
   "cell_type": "code",
   "execution_count": 113,
   "id": "ccef54a8-64fe-4882-a9fc-b1ca1b2e0815",
   "metadata": {},
   "outputs": [
    {
     "name": "stdout",
     "output_type": "stream",
     "text": [
      "wait\n"
     ]
    }
   ],
   "source": [
    "from nltk.stem import PorterStemmer\n",
    "e_words= [\"wait\", \"waiting\", \"waited\", \"waits\"]\n",
    "ps =PorterStemmer()\n",
    "for w in e_words:\n",
    "    rootWord=ps.stem(w)\n",
    "print(rootWord)"
   ]
  },
  {
   "cell_type": "markdown",
   "id": "e5bb4ffc-71aa-4f54-b0dc-3eaf6dfa7236",
   "metadata": {},
   "source": [
    "Perform Lemmatization"
   ]
  },
  {
   "cell_type": "code",
   "execution_count": 116,
   "id": "537b5670-6a51-42e8-b3b9-933176604e9a",
   "metadata": {},
   "outputs": [
    {
     "name": "stdout",
     "output_type": "stream",
     "text": [
      "Lemma for studies is study\n",
      "Lemma for studying is studying\n",
      "Lemma for cries is cry\n",
      "Lemma for cry is cry\n"
     ]
    }
   ],
   "source": [
    "from nltk.stem import WordNetLemmatizer\n",
    "wordnet_lemmatizer = WordNetLemmatizer()\n",
    "text = \"studies studying cries cry\"\n",
    "tokenization = nltk.word_tokenize(text)\n",
    "for w in tokenization:\n",
    "    print(\"Lemma for {} is {}\".format(w,wordnet_lemmatizer.lemmatize(w)))"
   ]
  },
  {
   "cell_type": "markdown",
   "id": "5c5b012b-5cfe-4b01-8a6a-07353f3c4041",
   "metadata": {},
   "source": [
    "Apply POS Tagging to text"
   ]
  },
  {
   "cell_type": "code",
   "execution_count": 119,
   "id": "3f4e92e4-6175-44a6-9ed2-8fc07c0460ee",
   "metadata": {},
   "outputs": [
    {
     "name": "stdout",
     "output_type": "stream",
     "text": [
      "[('The', 'DT')]\n",
      "[('pink', 'NN')]\n",
      "[('sweater', 'NN')]\n",
      "[('fit', 'NN')]\n",
      "[('her', 'PRP$')]\n",
      "[('perfectly', 'RB')]\n"
     ]
    }
   ],
   "source": [
    "from nltk.tokenize import word_tokenize\n",
    "data=\"The pink sweater fit her perfectly\"\n",
    "words=word_tokenize(data)\n",
    "for word in words:\n",
    "    print(nltk.pos_tag([word]))"
   ]
  },
  {
   "cell_type": "markdown",
   "id": "87656e15-6237-4181-a809-48ae139ef996",
   "metadata": {},
   "source": [
    "Algorithm for Create representation of document by calculating TF and IDF"
   ]
  },
  {
   "cell_type": "markdown",
   "id": "34a69d40-ccdd-41cb-a8e4-4ac1c3991ab5",
   "metadata": {},
   "source": [
    "Step 1: Import the necessary libraries."
   ]
  },
  {
   "cell_type": "code",
   "execution_count": 123,
   "id": "449e8c38-fed2-467b-acfd-65498ab62152",
   "metadata": {},
   "outputs": [],
   "source": [
    "import pandas as pd\n",
    "from sklearn.feature_extraction.text import TfidfVectorizer"
   ]
  },
  {
   "cell_type": "markdown",
   "id": "bce88e78-249e-4ee0-a609-2927b86d194c",
   "metadata": {},
   "source": [
    "Step 2: Initialize the Documents."
   ]
  },
  {
   "cell_type": "code",
   "execution_count": 126,
   "id": "91087e67-00a5-4b3f-a484-1916bc524f2f",
   "metadata": {},
   "outputs": [],
   "source": [
    "documentA = 'Jupiter is the largest Planet'\n",
    "documentB = 'Mars is the fourth planet from the Sun'"
   ]
  },
  {
   "cell_type": "markdown",
   "id": "1d5c110a-1faf-46f4-b177-409215a32f4a",
   "metadata": {},
   "source": [
    "Step 3: Create BagofWords (BoW) for Document A and B."
   ]
  },
  {
   "cell_type": "code",
   "execution_count": 129,
   "id": "2a99d357-1228-4a7c-965f-9035df526a7d",
   "metadata": {},
   "outputs": [],
   "source": [
    "bagOfWordsA = documentA.split(' ')\n",
    "bagOfWordsB = documentB.split(' ')"
   ]
  },
  {
   "cell_type": "markdown",
   "id": "5f561db7-2088-44bb-9d3e-b0a95bbfca1c",
   "metadata": {},
   "source": [
    "Step 4: Create Collection of Unique words from Document A and B."
   ]
  },
  {
   "cell_type": "code",
   "execution_count": 132,
   "id": "954116f8-7bdf-42d7-815c-1887a81efb24",
   "metadata": {},
   "outputs": [],
   "source": [
    "uniqueWords = set(bagOfWordsA).union(set(bagOfWordsB))"
   ]
  },
  {
   "cell_type": "markdown",
   "id": "308a8f28-cf61-4547-86ca-fc8a572832ae",
   "metadata": {},
   "source": [
    "Step 5: Create a dictionary of words and their occurrence for each document in the\n",
    "corpus"
   ]
  },
  {
   "cell_type": "code",
   "execution_count": 135,
   "id": "e493cd5a-ccbe-4a78-89c3-ff1111132a6e",
   "metadata": {},
   "outputs": [],
   "source": [
    "numOfWordsA = dict.fromkeys(uniqueWords, 0)\n",
    "for word in bagOfWordsA:\n",
    "    numOfWordsA[word] += 1\n",
    "numOfWordsB = dict.fromkeys(uniqueWords, 0)\n",
    "for word in bagOfWordsB:\n",
    "    numOfWordsB[word] += 1"
   ]
  },
  {
   "cell_type": "markdown",
   "id": "1c5c2a3d-03df-45db-9202-08eac4179894",
   "metadata": {},
   "source": [
    "Step 6: Compute the term frequency for each of our documents."
   ]
  },
  {
   "cell_type": "code",
   "execution_count": 138,
   "id": "b4e53899-8e16-4ea8-b516-6dc5938da459",
   "metadata": {},
   "outputs": [
    {
     "name": "stdout",
     "output_type": "stream",
     "text": [
      "{'Sun': 0.0, 'fourth': 0.0, 'the': 0.2, 'Mars': 0.0, 'Planet': 0.2, 'Jupiter': 0.2, 'largest': 0.2, 'is': 0.2, 'planet': 0.0, 'from': 0.0}\n",
      "{'Sun': 0.125, 'fourth': 0.125, 'the': 0.25, 'Mars': 0.125, 'Planet': 0.0, 'Jupiter': 0.0, 'largest': 0.0, 'is': 0.125, 'planet': 0.125, 'from': 0.125}\n"
     ]
    }
   ],
   "source": [
    "def computeTF(wordDict, bagOfWords):\n",
    "    tfDict = {}\n",
    "    bagOfWordsCount = len(bagOfWords)\n",
    "    for word, count in wordDict.items():\n",
    "        tfDict[word] = count / float(bagOfWordsCount)\n",
    "    return tfDict\n",
    "tfA = computeTF(numOfWordsA, bagOfWordsA)\n",
    "tfB = computeTF(numOfWordsB, bagOfWordsB)\n",
    "print(tfA)\n",
    "print(tfB)"
   ]
  },
  {
   "cell_type": "markdown",
   "id": "b81468b2-811c-469d-8a09-81877573bc06",
   "metadata": {},
   "source": [
    "Step 7: Compute the term Inverse Document Frequency."
   ]
  },
  {
   "cell_type": "code",
   "execution_count": 141,
   "id": "e4610a95-7997-476a-b593-95e3ecfd3611",
   "metadata": {},
   "outputs": [
    {
     "name": "stdout",
     "output_type": "stream",
     "text": [
      "{'Sun': 0.6931471805599453, 'fourth': 0.6931471805599453, 'the': 0.0, 'Mars': 0.6931471805599453, 'Planet': 0.6931471805599453, 'Jupiter': 0.6931471805599453, 'largest': 0.6931471805599453, 'is': 0.0, 'planet': 0.6931471805599453, 'from': 0.6931471805599453}\n"
     ]
    }
   ],
   "source": [
    "import math\n",
    "def computeIDF(documents):\n",
    "    N = len(documents)\n",
    "    idfDict = dict.fromkeys(documents[0].keys(), 0)\n",
    "\n",
    "    for document in documents:\n",
    "        for word, val in document.items():\n",
    "            if val > 0:\n",
    "                idfDict[word] += 1\n",
    "\n",
    "    for word, val in idfDict.items():\n",
    "        idfDict[word] = math.log(N / float(val))\n",
    "\n",
    "    return idfDict\n",
    "\n",
    "idfs = computeIDF([numOfWordsA, numOfWordsB])\n",
    "print(idfs)"
   ]
  },
  {
   "cell_type": "markdown",
   "id": "e3b3c840-0137-4ea6-9cff-2d79543e7aaf",
   "metadata": {},
   "source": [
    "Step 8: Compute the term TF/IDF for all words."
   ]
  },
  {
   "cell_type": "code",
   "execution_count": 144,
   "id": "ca289ed2-4185-4f89-9f05-57e2804ac28a",
   "metadata": {},
   "outputs": [
    {
     "data": {
      "text/html": [
       "<div>\n",
       "<style scoped>\n",
       "    .dataframe tbody tr th:only-of-type {\n",
       "        vertical-align: middle;\n",
       "    }\n",
       "\n",
       "    .dataframe tbody tr th {\n",
       "        vertical-align: top;\n",
       "    }\n",
       "\n",
       "    .dataframe thead th {\n",
       "        text-align: right;\n",
       "    }\n",
       "</style>\n",
       "<table border=\"1\" class=\"dataframe\">\n",
       "  <thead>\n",
       "    <tr style=\"text-align: right;\">\n",
       "      <th></th>\n",
       "      <th>Sun</th>\n",
       "      <th>fourth</th>\n",
       "      <th>the</th>\n",
       "      <th>Mars</th>\n",
       "      <th>Planet</th>\n",
       "      <th>Jupiter</th>\n",
       "      <th>largest</th>\n",
       "      <th>is</th>\n",
       "      <th>planet</th>\n",
       "      <th>from</th>\n",
       "    </tr>\n",
       "  </thead>\n",
       "  <tbody>\n",
       "    <tr>\n",
       "      <th>0</th>\n",
       "      <td>0.000000</td>\n",
       "      <td>0.000000</td>\n",
       "      <td>0.0</td>\n",
       "      <td>0.000000</td>\n",
       "      <td>0.138629</td>\n",
       "      <td>0.138629</td>\n",
       "      <td>0.138629</td>\n",
       "      <td>0.0</td>\n",
       "      <td>0.000000</td>\n",
       "      <td>0.000000</td>\n",
       "    </tr>\n",
       "    <tr>\n",
       "      <th>1</th>\n",
       "      <td>0.086643</td>\n",
       "      <td>0.086643</td>\n",
       "      <td>0.0</td>\n",
       "      <td>0.086643</td>\n",
       "      <td>0.000000</td>\n",
       "      <td>0.000000</td>\n",
       "      <td>0.000000</td>\n",
       "      <td>0.0</td>\n",
       "      <td>0.086643</td>\n",
       "      <td>0.086643</td>\n",
       "    </tr>\n",
       "  </tbody>\n",
       "</table>\n",
       "</div>"
      ],
      "text/plain": [
       "        Sun    fourth  the      Mars    Planet   Jupiter   largest   is  \\\n",
       "0  0.000000  0.000000  0.0  0.000000  0.138629  0.138629  0.138629  0.0   \n",
       "1  0.086643  0.086643  0.0  0.086643  0.000000  0.000000  0.000000  0.0   \n",
       "\n",
       "     planet      from  \n",
       "0  0.000000  0.000000  \n",
       "1  0.086643  0.086643  "
      ]
     },
     "execution_count": 144,
     "metadata": {},
     "output_type": "execute_result"
    }
   ],
   "source": [
    "def computeTFIDF(tfBagOfWords, idfs):\n",
    "    tfidf = {}\n",
    "    for word, val in tfBagOfWords.items():\n",
    "        tfidf[word] = val * idfs[word]\n",
    "    return tfidf\n",
    "tfidfA = computeTFIDF(tfA, idfs)\n",
    "tfidfB = computeTFIDF(tfB, idfs)\n",
    "df = pd.DataFrame([tfidfA, tfidfB])\n",
    "df"
   ]
  }
 ],
 "metadata": {
  "kernelspec": {
   "display_name": "Python 3 (ipykernel)",
   "language": "python",
   "name": "python3"
  },
  "language_info": {
   "codemirror_mode": {
    "name": "ipython",
    "version": 3
   },
   "file_extension": ".py",
   "mimetype": "text/x-python",
   "name": "python",
   "nbconvert_exporter": "python",
   "pygments_lexer": "ipython3",
   "version": "3.12.4"
  }
 },
 "nbformat": 4,
 "nbformat_minor": 5
}
